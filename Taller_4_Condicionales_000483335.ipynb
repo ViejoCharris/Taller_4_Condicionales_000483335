{
  "nbformat": 4,
  "nbformat_minor": 0,
  "metadata": {
    "colab": {
      "provenance": [],
      "authorship_tag": "ABX9TyN22EoBo5MjRlutubsDJfz1",
      "include_colab_link": true
    },
    "kernelspec": {
      "name": "python3",
      "display_name": "Python 3"
    },
    "language_info": {
      "name": "python"
    }
  },
  "cells": [
    {
      "cell_type": "markdown",
      "metadata": {
        "id": "view-in-github",
        "colab_type": "text"
      },
      "source": [
        "<a href=\"https://colab.research.google.com/github/charrisgamer/Taller_4_Condicionales_000483335/blob/main/Taller_4_Condicionales_000483335.ipynb\" target=\"_parent\"><img src=\"https://colab.research.google.com/assets/colab-badge.svg\" alt=\"Open In Colab\"/></a>"
      ]
    },
    {
      "cell_type": "markdown",
      "source": [
        "# Taller_4_Estructura_Selectiva_Doble\n",
        "## Curso de programacion y algorirmia UPB 202320\n",
        "- Nombre: Walter Charris\n",
        "- ID: 000483335\n",
        "- Email: walter.charris@upb.edu.co"
      ],
      "metadata": {
        "id": "ZYOet3Y0fEqz"
      }
    },
    {
      "cell_type": "code",
      "execution_count": null,
      "metadata": {
        "colab": {
          "base_uri": "https://localhost:8080/"
        },
        "id": "qI8HH_jXe2n1",
        "outputId": "51241e23-4d58-41c9-c3c0-e813702027ed"
      },
      "outputs": [
        {
          "output_type": "stream",
          "name": "stdout",
          "text": [
            "Ingresa tu calificacion: 1\n",
            "Usted a desaprobado, :(\n"
          ]
        }
      ],
      "source": [
        "Calificacion = float(input(\"Ingresa tu calificacion: \"))\n",
        "\n",
        "if Calificacion >= 3:\n",
        "  print(\"Usted a aprobado, Felicidades\")\n",
        "\n",
        "if Calificacion < 3:\n",
        "  print(\"Usted a desaprobado, :(\")"
      ]
    },
    {
      "cell_type": "code",
      "source": [
        "Numero = float(input(\"Ingresa un numero: \"))\n",
        "\n",
        "if Numero > 0:\n",
        "  print(\"Su numero es Positivo\")\n",
        "\n",
        "if Numero < 0:\n",
        "  print(\"Su numero es negativo\")\n",
        "\n",
        "if Numero == 0:\n",
        "  print(\"Su numero es neutral\")"
      ],
      "metadata": {
        "colab": {
          "base_uri": "https://localhost:8080/"
        },
        "id": "FnZ2jET3fpXR",
        "outputId": "ec666655-a99d-4362-cba2-b46b53fdd1ca"
      },
      "execution_count": null,
      "outputs": [
        {
          "output_type": "stream",
          "name": "stdout",
          "text": [
            "Ingresa un numero: -1\n",
            "Su numero es negativo\n"
          ]
        }
      ]
    },
    {
      "cell_type": "code",
      "source": [
        "Contraseña = input(\"ingresa la contraseña: \")\n",
        "\n",
        "if Contraseña == \"python123\":\n",
        "  print(\"Contraseña válida\")\n",
        "\n",
        "else:\n",
        "  print(\"Contraseña inválida\")"
      ],
      "metadata": {
        "colab": {
          "base_uri": "https://localhost:8080/"
        },
        "id": "DBoDHL3njax6",
        "outputId": "0ea532c3-6f18-4b59-9938-e0b3f6e09343"
      },
      "execution_count": null,
      "outputs": [
        {
          "output_type": "stream",
          "name": "stdout",
          "text": [
            "ingresa la contraseña: python123\n",
            "Contraseña válida\n"
          ]
        }
      ]
    },
    {
      "cell_type": "code",
      "source": [
        "Numero = float(int(input(\"ingresa un numero: \")))\n",
        "\n",
        "if Numero % 2 == 0:\n",
        "  print(\"El numero es par\")\n",
        "\n",
        "else:\n",
        "  print(\"El numero es impar\")"
      ],
      "metadata": {
        "colab": {
          "base_uri": "https://localhost:8080/"
        },
        "id": "eSTDXIg_leMh",
        "outputId": "4a3ac3fd-f4d2-46bf-ae32-31389156d547"
      },
      "execution_count": null,
      "outputs": [
        {
          "output_type": "stream",
          "name": "stdout",
          "text": [
            "ingresa un numero: 17\n",
            "El numero es impar\n"
          ]
        }
      ]
    },
    {
      "cell_type": "code",
      "source": [
        "Numero1 = float(input(\"ingresa un numero: \"))\n",
        "Numero2 = float(input(\"ingresa un numero: \"))\n",
        "Numero3 = float(input(\"ingresa un numero: \"))\n",
        "Numero4 = float(input(\"ingresa un numero: \"))\n",
        "Numero5 = float(input(\"ingresa un numero: \"))\n",
        "\n",
        "mayor = Numero1\n",
        "\n",
        "if Numero2 > mayor:\n",
        "    mayor = Numero2\n",
        "\n",
        "if Numero3 > mayor:\n",
        "    mayor = Numero3\n",
        "\n",
        "if Numero4 > mayor:\n",
        "    mayor = Numero4\n",
        "\n",
        "if Numero5 > mayor:\n",
        "    mayor = Numero5\n",
        "\n",
        "print(\"El número mayor es:\",mayor)\n"
      ],
      "metadata": {
        "colab": {
          "base_uri": "https://localhost:8080/"
        },
        "id": "AqdonUWKoKud",
        "outputId": "ef2a1076-f4a7-42af-b99a-fba4cba9cc1a"
      },
      "execution_count": 13,
      "outputs": [
        {
          "output_type": "stream",
          "name": "stdout",
          "text": [
            "ingresa un numero: 74\n",
            "ingresa un numero: 89\n",
            "ingresa un numero: 67\n",
            "ingresa un numero: 81\n",
            "ingresa un numero: 49\n",
            "El número mayor es: 89.0\n"
          ]
        }
      ]
    },
    {
      "cell_type": "code",
      "source": [
        "edad = float(input(\"ingresa tu edad \"))\n",
        "\n",
        "if 0 <= edad <= 12:\n",
        "  categoria = \"Niño\"\n",
        "\n",
        "if 13 <= edad <= 19:\n",
        "  categoria = \"Adolecente\"\n",
        "\n",
        "if 20 <= edad <= 64:\n",
        "  categoria = \"Adulto\"\n",
        "\n",
        "if 65 <= edad:\n",
        "  categoria = \"viejo\"\n",
        "\n",
        "print(\"Te encuentras en el rango de edades de un\",categoria)"
      ],
      "metadata": {
        "colab": {
          "base_uri": "https://localhost:8080/"
        },
        "id": "onIWbQpOpRfO",
        "outputId": "9f53ea04-00b5-47e0-f2e9-da72817e10a1"
      },
      "execution_count": 12,
      "outputs": [
        {
          "output_type": "stream",
          "name": "stdout",
          "text": [
            "ingresa tu edad 15\n",
            "Te encuentras en el rango de edades de un Adolecente\n"
          ]
        }
      ]
    }
  ]
}